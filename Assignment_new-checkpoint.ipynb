{
 "cells": [
  {
   "cell_type": "markdown",
   "id": "56c54c40",
   "metadata": {},
   "source": [
    "# STRING"
   ]
  },
  {
   "cell_type": "markdown",
   "id": "0fbef79f",
   "metadata": {},
   "source": [
    "# Q1"
   ]
  },
  {
   "cell_type": "code",
   "execution_count": 1,
   "id": "3f80cea6",
   "metadata": {},
   "outputs": [
    {
     "name": "stdout",
     "output_type": "stream",
     "text": [
      "Please enter your first name: Yashwant\n",
      "Please enter your last name: Sharma\n",
      "Please enter your email id: syashwant91@gmail.com\n",
      "Please enter your course: Data Science\n"
     ]
    }
   ],
   "source": [
    "First_Name = input('Please enter your first name: ')\n",
    "Last_Name = input('Please enter your last name: ')\n",
    "Email_id = input('Please enter your email id: ')\n",
    "Course = input('Please enter your course: ')\n"
   ]
  },
  {
   "cell_type": "code",
   "execution_count": null,
   "id": "1e78774f",
   "metadata": {},
   "outputs": [],
   "source": []
  },
  {
   "cell_type": "markdown",
   "id": "022ea61c",
   "metadata": {},
   "source": [
    "# Q2"
   ]
  },
  {
   "cell_type": "code",
   "execution_count": 2,
   "id": "f6c2179f",
   "metadata": {},
   "outputs": [
    {
     "name": "stdout",
     "output_type": "stream",
     "text": [
      "YashwantSharma, syashwant91@gmail.com\n",
      "DATA SCIENCE\n"
     ]
    }
   ],
   "source": [
    "print(f'{First_Name.title()}{Last_Name.title()}, {Email_id.lower()}\\n{Course.upper()}')"
   ]
  },
  {
   "cell_type": "code",
   "execution_count": null,
   "id": "1c23cf08",
   "metadata": {},
   "outputs": [],
   "source": []
  },
  {
   "cell_type": "markdown",
   "id": "438e49d7",
   "metadata": {},
   "source": [
    "# Q3"
   ]
  },
  {
   "cell_type": "code",
   "execution_count": 3,
   "id": "258659f2",
   "metadata": {},
   "outputs": [
    {
     "name": "stdout",
     "output_type": "stream",
     "text": [
      "Enter title: mr.\n",
      "Enter your full name: Yashwant sharma\n",
      "Mr.\n",
      "Yashwant sharma\n"
     ]
    }
   ],
   "source": [
    "Title = input('Enter title: ')\n",
    "Fullname = input('Enter your full name: ')\n",
    "\n",
    "print(f'{Title.capitalize()}\\n{Fullname}')"
   ]
  },
  {
   "cell_type": "code",
   "execution_count": null,
   "id": "e9c5f1ac",
   "metadata": {},
   "outputs": [],
   "source": []
  },
  {
   "cell_type": "markdown",
   "id": "89e1d05b",
   "metadata": {},
   "source": [
    "# Q4"
   ]
  },
  {
   "cell_type": "code",
   "execution_count": 4,
   "id": "410c5d70",
   "metadata": {},
   "outputs": [
    {
     "name": "stdout",
     "output_type": "stream",
     "text": [
      "There was an old owl who lived in an oak tree. Every day, he observed incidents that occurred around him.\n",
      "Yesterday, he watched as a young boy helped an old man carry a heavy basket. Today, he saw a young girl shouting at her mother. The more he saw, the less he spoke.\n",
      "As the days went on, he spoke less but heard more. The old owl heard people talking and telling stories.\n",
      "He heard a woman saying an elephant jumped over a fence. He heard a man saying that he had never made a mistake.\n",
      "The old owl had seen and heard what happened to people. There were some who became better, some who became worse. But the old owl in the tree had become wiser, each and every day.\n"
     ]
    }
   ],
   "source": [
    "Lines = ('There was an old owl who lived in an oak tree. Every day, he observed incidents that occurred around him.\\nYesterday, he watched as a young boy helped an old man carry a heavy basket. Today, he saw a young girl shouting at her mother. The more he saw, the less he spoke.\\nAs the days went on, he spoke less but heard more. The old owl heard people talking and telling stories.\\nHe heard a woman saying an elephant jumped over a fence. He heard a man saying that he had never made a mistake.\\nThe old owl had seen and heard what happened to people. There were some who became better, some who became worse. But the old owl in the tree had become wiser, each and every day.')\n",
    "print(Lines)"
   ]
  },
  {
   "cell_type": "code",
   "execution_count": null,
   "id": "61cd640d",
   "metadata": {},
   "outputs": [],
   "source": []
  },
  {
   "cell_type": "markdown",
   "id": "b00d58a8",
   "metadata": {},
   "source": [
    "# Q5"
   ]
  },
  {
   "cell_type": "code",
   "execution_count": 5,
   "id": "5d4d77b4",
   "metadata": {},
   "outputs": [],
   "source": [
    "Text = \"oNcE upoN A tIMe, iN a mYsTeRIouS fOrEst, tHEre wAS aN aDvEnTuRoUS yOUnG gIRL nAMeD aLICe. ShE wAS aLwAyS cURiOuS aBOuT eVErYtHInG aNd cOULd nEvEr rESiST eXPlORiNg nEW pLaCeS.\\nOnE dAy, wHilE wANdErInG tHroUGh tHE fOrEsT, aLICe cAMe aCRoSS a tInY dOoR tHaT wAs hIdDEn bEHinD sOmE bUShES. sHE cOuLdN't rESisT hER cUriOSItY aNd dEcIDeD tO oPeN tHe dOOr. tO hER aMaZEmeNT, tHe dOoR lEd tO a mAGiCaL wORlD!\\nThE nEw wOrLd wAs fIlLeD wItH bRiGhT cOlOrS aNd sTRaNge cReAtuReS. aLiCe mEt a tALkiNg rAbBiT wHo cArRiEd a pOcKet wATcH aNd wAs aLwAyS iN a hURrY. sHE fOLLoWEd tHe rAbBiT aNd eMbArKEd oN a sErIeS oF uNfORsEeN aDvEnTuReS.\\nIn hER jOuRnEy, aLiCe eNcOUnteReD a cHEsHirE cAT, wHo gRAcEd hER wITh a mYsTErIoUs sMiLe aND sPoKe iN rIDDles. sHe aLsO hELpEd a gRoUP oF tEa cUps aNd tEa pOtS hAVe a tEa pARtY, wHicH wAs qUiTe tHE uNusUal sIgHt tO sEE!\""
   ]
  },
  {
   "cell_type": "code",
   "execution_count": 6,
   "id": "14fb7d69",
   "metadata": {},
   "outputs": [],
   "source": [
    "Text = Text.title()"
   ]
  },
  {
   "cell_type": "code",
   "execution_count": 7,
   "id": "cb51af67",
   "metadata": {},
   "outputs": [
    {
     "name": "stdout",
     "output_type": "stream",
     "text": [
      "Once Upon A Time, In A Mysterious Forest, There Was An Adventurous Young Girl Named Alice. She Was Always Curious About Everything And Could Never Resist Exploring New Places.\n",
      "One Day, While Wandering Through The Forest, Alice Came Across A Tiny Door That Was Hidden Behind Some Bushes. She Couldn'T Resist Her Curiosity And Decided To Open The Door. To Her Amazement, The Door Led To A Magical World!\n",
      "The New World Was Filled With Bright Colors And Strange Creatures. Alice Met A Talking Rabbit Who Carried A Pocket Watch And Was Always In A Hurry. She Followed The Rabbit And Embarked On A Series Of Unforseen Adventures.\n",
      "In Her Journey, Alice Encountered A Cheshire Cat, Who Graced Her With A Mysterious Smile And Spoke In Riddles. She Also Helped A Group Of Tea Cups And Tea Pots Have A Tea Party, Which Was Quite The Unusual Sight To See!\n"
     ]
    }
   ],
   "source": [
    "print(Text)"
   ]
  },
  {
   "cell_type": "code",
   "execution_count": null,
   "id": "625cd1b7",
   "metadata": {},
   "outputs": [],
   "source": []
  },
  {
   "cell_type": "markdown",
   "id": "b3810d65",
   "metadata": {},
   "source": [
    "# Q6"
   ]
  },
  {
   "cell_type": "code",
   "execution_count": 8,
   "id": "934d13c0",
   "metadata": {},
   "outputs": [],
   "source": [
    "BMW = ('BMW, a renowned German automotive manufacturer, has left an indelible mark on the Indian automotive landscape. With its striking designs and innovative engineering, BMW has become a symbol of luxury and performance in the Indian market. Indian consumers have wholeheartedly embraced the brand, appreciating its cutting-edge technology, comfort, and style. The BMW brand exudes an air of exclusivity and sophistication, appealing to the discerning Indian clientele who seek nothing but the best. Over the years, BMW has tailored its o􀎛erings to cater to the diverse tastes and preferences of the Indian populace, solidifying its position as a leading luxury carmaker in the country. Whether navigating bustling city streets or cruising along picturesque highways, the presence of a BMW on Indian roads commands attention and admiration, reflecting the brands strong allure and timeless appeal to the Indian automotive enthusiast.')"
   ]
  },
  {
   "cell_type": "code",
   "execution_count": 9,
   "id": "5e0e4169",
   "metadata": {},
   "outputs": [
    {
     "data": {
      "text/plain": [
       "7"
      ]
     },
     "execution_count": 9,
     "metadata": {},
     "output_type": "execute_result"
    }
   ],
   "source": [
    "BMW.count('Indian')"
   ]
  },
  {
   "cell_type": "code",
   "execution_count": null,
   "id": "0cad7424",
   "metadata": {},
   "outputs": [],
   "source": []
  },
  {
   "cell_type": "markdown",
   "id": "6186a747",
   "metadata": {},
   "source": [
    "# Q7"
   ]
  },
  {
   "cell_type": "code",
   "execution_count": 10,
   "id": "197c45cb",
   "metadata": {},
   "outputs": [],
   "source": [
    "text = ('Once++upon++a++time,++there++was++a++brave++knight++named++Sir++Arthur.++He++lived++in++a++mighty++castle++on++top++of++a++steep++hill.++Sir++Arthur++was++known++for++his++fearlessness++and++his++sword++skills.++He++had++a++loyal++horse++named++Thunder++and++a++wise++mentor++named++Merlin.++Together++they++embarked++on++many++adventures++and++fought++fierce++dragons++to++protect++the++kingdom.++Sir++Arthurs++courageous++deeds++became++legendary++and++inspired++generations++to++come.')"
   ]
  },
  {
   "cell_type": "code",
   "execution_count": 11,
   "id": "c3bd717f",
   "metadata": {},
   "outputs": [
    {
     "data": {
      "text/plain": [
       "'Once upon a time, there was a brave knight named Sir Arthur. He lived in a mighty castle on top of a steep hill. Sir Arthur was known for his fearlessness and his sword skills. He had a loyal horse named Thunder and a wise mentor named Merlin. Together they embarked on many adventures and fought fierce dragons to protect the kingdom. Sir Arthurs courageous deeds became legendary and inspired generations to come.'"
      ]
     },
     "execution_count": 11,
     "metadata": {},
     "output_type": "execute_result"
    }
   ],
   "source": [
    "text.replace('++',' ')"
   ]
  },
  {
   "cell_type": "code",
   "execution_count": null,
   "id": "9214060a",
   "metadata": {},
   "outputs": [],
   "source": []
  },
  {
   "cell_type": "code",
   "execution_count": null,
   "id": "66d99fe7",
   "metadata": {},
   "outputs": [],
   "source": []
  },
  {
   "cell_type": "markdown",
   "id": "8503ac04",
   "metadata": {},
   "source": [
    "# SET"
   ]
  },
  {
   "cell_type": "markdown",
   "id": "62c36a39",
   "metadata": {},
   "source": [
    "# Q1, Q2, Q3"
   ]
  },
  {
   "cell_type": "code",
   "execution_count": null,
   "id": "439168b5",
   "metadata": {},
   "outputs": [],
   "source": []
  },
  {
   "cell_type": "code",
   "execution_count": 12,
   "id": "ea4010e6",
   "metadata": {},
   "outputs": [
    {
     "name": "stdout",
     "output_type": "stream",
     "text": [
      "Enter a number between 1-99: 25\n",
      "Enter a number between 1-99: 35\n",
      "Enter a number between 1-99: 45\n",
      "Enter a number between 1-99: 78\n",
      "Enter a number between 1-99: 96\n",
      "{96, 35, 45, 78, 25}\n",
      "Length: 5\n"
     ]
    }
   ],
   "source": [
    "e = set()\n",
    "num1 = int(input('Enter a number between 1-99: '))\n",
    "num2 = int(input('Enter a number between 1-99: '))\n",
    "num3 = int(input('Enter a number between 1-99: '))\n",
    "num4 = int(input('Enter a number between 1-99: '))\n",
    "num5 = int(input('Enter a number between 1-99: '))\n",
    "e.add(num1)\n",
    "e.add(num2)\n",
    "e.add(num3)\n",
    "e.add(num4)\n",
    "e.add(num5)\n",
    "print(e)\n",
    "if len(e)<5:\n",
    "    print('Please enter the numbers again')\n",
    "else:\n",
    "    print(\"Length: \"f'{len(e)}')"
   ]
  },
  {
   "cell_type": "code",
   "execution_count": null,
   "id": "5c9cd11c",
   "metadata": {},
   "outputs": [],
   "source": []
  },
  {
   "cell_type": "markdown",
   "id": "013e4ee8",
   "metadata": {},
   "source": [
    "# Q4"
   ]
  },
  {
   "cell_type": "code",
   "execution_count": 13,
   "id": "34d0ac88",
   "metadata": {},
   "outputs": [
    {
     "name": "stdout",
     "output_type": "stream",
     "text": [
      "Enter a number between 1-99: 32\n",
      "Enter a number between 1-99: 54\n",
      "Enter a number between 1-99: 68\n",
      "Enter a number between 1-99: 75\n",
      "Enter a number between 1-99: 42\n",
      "{32, 68, 42, 75, 54}\n"
     ]
    }
   ],
   "source": [
    "d = set()\n",
    "numm1 = int(input('Enter a number between 1-99: '))\n",
    "numm2 = int(input('Enter a number between 1-99: '))\n",
    "numm3 = int(input('Enter a number between 1-99: '))\n",
    "numm4 = int(input('Enter a number between 1-99: '))\n",
    "numm5 = int(input('Enter a number between 1-99: '))\n",
    "d.add(numm1)\n",
    "d.add(numm2)\n",
    "d.add(numm3)\n",
    "d.add(numm4)\n",
    "d.add(numm5)\n",
    "print(d)"
   ]
  },
  {
   "cell_type": "code",
   "execution_count": null,
   "id": "d3137351",
   "metadata": {},
   "outputs": [],
   "source": []
  },
  {
   "cell_type": "markdown",
   "id": "915cc1f0",
   "metadata": {},
   "source": [
    "# Q5 a"
   ]
  },
  {
   "cell_type": "code",
   "execution_count": 14,
   "id": "8e5aeb4a",
   "metadata": {},
   "outputs": [
    {
     "data": {
      "text/plain": [
       "set()"
      ]
     },
     "execution_count": 14,
     "metadata": {},
     "output_type": "execute_result"
    }
   ],
   "source": [
    "e.intersection(d)"
   ]
  },
  {
   "cell_type": "code",
   "execution_count": null,
   "id": "abcd8628",
   "metadata": {},
   "outputs": [],
   "source": []
  },
  {
   "cell_type": "markdown",
   "id": "aef4ab76",
   "metadata": {},
   "source": [
    "# Q5 b"
   ]
  },
  {
   "cell_type": "code",
   "execution_count": 15,
   "id": "64aae438",
   "metadata": {},
   "outputs": [
    {
     "data": {
      "text/plain": [
       "True"
      ]
     },
     "execution_count": 15,
     "metadata": {},
     "output_type": "execute_result"
    }
   ],
   "source": [
    "e.isdisjoint(d)"
   ]
  },
  {
   "cell_type": "code",
   "execution_count": null,
   "id": "4d89fa10",
   "metadata": {},
   "outputs": [],
   "source": []
  },
  {
   "cell_type": "markdown",
   "id": "732f6392",
   "metadata": {},
   "source": [
    "# Q6"
   ]
  },
  {
   "cell_type": "code",
   "execution_count": 16,
   "id": "62547f43",
   "metadata": {},
   "outputs": [
    {
     "data": {
      "text/plain": [
       "{25, 32, 35, 42, 45, 54, 68, 75, 78, 96}"
      ]
     },
     "execution_count": 16,
     "metadata": {},
     "output_type": "execute_result"
    }
   ],
   "source": [
    "e.symmetric_difference(d)"
   ]
  },
  {
   "cell_type": "code",
   "execution_count": null,
   "id": "a95cf9df",
   "metadata": {},
   "outputs": [],
   "source": []
  },
  {
   "cell_type": "markdown",
   "id": "db72a344",
   "metadata": {},
   "source": [
    "# Q7"
   ]
  },
  {
   "cell_type": "code",
   "execution_count": 17,
   "id": "cbad0c07",
   "metadata": {},
   "outputs": [],
   "source": [
    "Animals = {'Cat','Dog','Lion','Elephant','Horse','Cow','Giraffe','Deer','Zebra','Camel'}"
   ]
  },
  {
   "cell_type": "code",
   "execution_count": null,
   "id": "f94ef00e",
   "metadata": {},
   "outputs": [],
   "source": []
  },
  {
   "cell_type": "markdown",
   "id": "77fc8283",
   "metadata": {},
   "source": [
    "# Q8"
   ]
  },
  {
   "cell_type": "code",
   "execution_count": 18,
   "id": "7b354c02",
   "metadata": {},
   "outputs": [
    {
     "name": "stdout",
     "output_type": "stream",
     "text": [
      "Please enter your favourite animal name: Lion\n"
     ]
    }
   ],
   "source": [
    "s = set()\n",
    "Animal_name = input('Please enter your favourite animal name: ')\n",
    "s.add(Animal_name)"
   ]
  },
  {
   "cell_type": "code",
   "execution_count": null,
   "id": "33e1a6e0",
   "metadata": {},
   "outputs": [],
   "source": []
  },
  {
   "cell_type": "markdown",
   "id": "fe705692",
   "metadata": {},
   "source": [
    "# Q9"
   ]
  },
  {
   "cell_type": "code",
   "execution_count": 19,
   "id": "d353be3e",
   "metadata": {},
   "outputs": [
    {
     "data": {
      "text/plain": [
       "True"
      ]
     },
     "execution_count": 19,
     "metadata": {},
     "output_type": "execute_result"
    }
   ],
   "source": [
    "s.issubset(Animals)"
   ]
  },
  {
   "cell_type": "code",
   "execution_count": null,
   "id": "671077a3",
   "metadata": {},
   "outputs": [],
   "source": []
  },
  {
   "cell_type": "code",
   "execution_count": null,
   "id": "83a64cea",
   "metadata": {},
   "outputs": [],
   "source": []
  },
  {
   "cell_type": "markdown",
   "id": "fd3a2629",
   "metadata": {},
   "source": [
    "# LIST"
   ]
  },
  {
   "cell_type": "markdown",
   "id": "3c643adc",
   "metadata": {},
   "source": [
    "# Q1"
   ]
  },
  {
   "cell_type": "code",
   "execution_count": 21,
   "id": "96c55778",
   "metadata": {},
   "outputs": [
    {
     "name": "stdout",
     "output_type": "stream",
     "text": [
      "Enter city name: Delhi\n",
      "Enter city name: Gurgaon\n",
      "Enter city name: Noida\n",
      "Enter city name: Jaipur\n",
      "Enter city name: Chandigarh\n",
      "['Delhi', 'Gurgaon', 'Noida', 'Jaipur', 'Chandigarh']\n"
     ]
    }
   ],
   "source": [
    "g = []\n",
    "city1 = input('Enter city name: ')\n",
    "city2 = input('Enter city name: ')\n",
    "city3 = input('Enter city name: ')\n",
    "city4 = input('Enter city name: ')\n",
    "city5 = input('Enter city name: ')\n",
    "g.append(city1)\n",
    "g.append(city2)\n",
    "g.append(city3)\n",
    "g.append(city4)\n",
    "g.append(city5)\n",
    "print(g)"
   ]
  },
  {
   "cell_type": "code",
   "execution_count": null,
   "id": "8cd25e53",
   "metadata": {},
   "outputs": [],
   "source": []
  },
  {
   "cell_type": "markdown",
   "id": "0df58974",
   "metadata": {},
   "source": [
    "# Q2"
   ]
  },
  {
   "cell_type": "code",
   "execution_count": 23,
   "id": "08b5f103",
   "metadata": {},
   "outputs": [
    {
     "name": "stdout",
     "output_type": "stream",
     "text": [
      "0\n",
      "1\n",
      "2\n",
      "3\n",
      "4\n"
     ]
    }
   ],
   "source": [
    "print(g.index('Delhi'))\n",
    "print(g.index('Gurgaon'))\n",
    "print(g.index('Noida'))\n",
    "print(g.index('Jaipur'))\n",
    "print(g.index('Chandigarh'))\n"
   ]
  },
  {
   "cell_type": "code",
   "execution_count": null,
   "id": "a5a6812f",
   "metadata": {},
   "outputs": [],
   "source": []
  },
  {
   "cell_type": "markdown",
   "id": "98439666",
   "metadata": {},
   "source": [
    "# Q3"
   ]
  },
  {
   "cell_type": "code",
   "execution_count": 24,
   "id": "e8fcde0f",
   "metadata": {},
   "outputs": [],
   "source": [
    "g[0],g[4] = g[4],g[0]"
   ]
  },
  {
   "cell_type": "code",
   "execution_count": 25,
   "id": "9eb98d41",
   "metadata": {},
   "outputs": [
    {
     "data": {
      "text/plain": [
       "['Chandigarh', 'Gurgaon', 'Noida', 'Jaipur', 'Delhi']"
      ]
     },
     "execution_count": 25,
     "metadata": {},
     "output_type": "execute_result"
    }
   ],
   "source": [
    "g"
   ]
  },
  {
   "cell_type": "code",
   "execution_count": null,
   "id": "4834d31d",
   "metadata": {},
   "outputs": [],
   "source": []
  },
  {
   "cell_type": "markdown",
   "id": "7e1cba43",
   "metadata": {},
   "source": [
    "# Q4"
   ]
  },
  {
   "cell_type": "code",
   "execution_count": 26,
   "id": "3cbae885",
   "metadata": {},
   "outputs": [],
   "source": [
    "g[2] = 'Berlin'\n",
    "g[3] = 'Rome'"
   ]
  },
  {
   "cell_type": "code",
   "execution_count": 27,
   "id": "8f7c217c",
   "metadata": {},
   "outputs": [
    {
     "data": {
      "text/plain": [
       "['Chandigarh', 'Gurgaon', 'Berlin', 'Rome', 'Delhi']"
      ]
     },
     "execution_count": 27,
     "metadata": {},
     "output_type": "execute_result"
    }
   ],
   "source": [
    "g"
   ]
  },
  {
   "cell_type": "code",
   "execution_count": null,
   "id": "180dcc22",
   "metadata": {},
   "outputs": [],
   "source": []
  },
  {
   "cell_type": "markdown",
   "id": "dec848bf",
   "metadata": {},
   "source": [
    "# Q5"
   ]
  },
  {
   "cell_type": "code",
   "execution_count": 28,
   "id": "ed2f653f",
   "metadata": {},
   "outputs": [],
   "source": [
    "i = g[2:4]"
   ]
  },
  {
   "cell_type": "code",
   "execution_count": 29,
   "id": "0d54eae9",
   "metadata": {},
   "outputs": [
    {
     "data": {
      "text/plain": [
       "['Berlin', 'Rome']"
      ]
     },
     "execution_count": 29,
     "metadata": {},
     "output_type": "execute_result"
    }
   ],
   "source": [
    "i"
   ]
  },
  {
   "cell_type": "code",
   "execution_count": null,
   "id": "ad6661a2",
   "metadata": {},
   "outputs": [],
   "source": []
  },
  {
   "cell_type": "markdown",
   "id": "dd17b789",
   "metadata": {},
   "source": [
    "# Q6"
   ]
  },
  {
   "cell_type": "code",
   "execution_count": 30,
   "id": "411814a0",
   "metadata": {},
   "outputs": [
    {
     "name": "stdout",
     "output_type": "stream",
     "text": [
      "Please enter international city: Melbourne\n",
      "Please enter international city: Switzerland\n",
      "Please enter international city: Sidney\n"
     ]
    }
   ],
   "source": [
    "intern1 = input('Please enter international city: ')\n",
    "intern2 = input('Please enter international city: ')\n",
    "intern3 = input('Please enter international city: ')\n",
    "i.append(intern1)\n",
    "i.append(intern2)\n",
    "i.append(intern3)"
   ]
  },
  {
   "cell_type": "code",
   "execution_count": 31,
   "id": "957a6f22",
   "metadata": {},
   "outputs": [
    {
     "data": {
      "text/plain": [
       "['Berlin', 'Rome', 'Melbourne', 'Switzerland', 'Sidney']"
      ]
     },
     "execution_count": 31,
     "metadata": {},
     "output_type": "execute_result"
    }
   ],
   "source": [
    "i"
   ]
  },
  {
   "cell_type": "code",
   "execution_count": null,
   "id": "7d16982b",
   "metadata": {},
   "outputs": [],
   "source": []
  },
  {
   "cell_type": "markdown",
   "id": "a9a581ae",
   "metadata": {},
   "source": [
    "# Q7"
   ]
  },
  {
   "cell_type": "code",
   "execution_count": 32,
   "id": "41062290",
   "metadata": {},
   "outputs": [
    {
     "name": "stdout",
     "output_type": "stream",
     "text": [
      "Length of list g is: 5\n",
      "Length of list i is: 5\n"
     ]
    }
   ],
   "source": [
    "print(f'Length of list g is: {len(g)}')\n",
    "print(f'Length of list i is: {len(i)}')"
   ]
  },
  {
   "cell_type": "code",
   "execution_count": null,
   "id": "3ada0c42",
   "metadata": {},
   "outputs": [],
   "source": []
  },
  {
   "cell_type": "markdown",
   "id": "1b8a929e",
   "metadata": {},
   "source": [
    "# Q8"
   ]
  },
  {
   "cell_type": "code",
   "execution_count": 33,
   "id": "96df0a27",
   "metadata": {},
   "outputs": [],
   "source": [
    "i.extend(g)"
   ]
  },
  {
   "cell_type": "code",
   "execution_count": 34,
   "id": "c38317a8",
   "metadata": {},
   "outputs": [
    {
     "data": {
      "text/plain": [
       "['Berlin',\n",
       " 'Rome',\n",
       " 'Melbourne',\n",
       " 'Switzerland',\n",
       " 'Sidney',\n",
       " 'Chandigarh',\n",
       " 'Gurgaon',\n",
       " 'Berlin',\n",
       " 'Rome',\n",
       " 'Delhi']"
      ]
     },
     "execution_count": 34,
     "metadata": {},
     "output_type": "execute_result"
    }
   ],
   "source": [
    "i"
   ]
  },
  {
   "cell_type": "code",
   "execution_count": 35,
   "id": "2f36c599",
   "metadata": {},
   "outputs": [],
   "source": [
    "i.reverse()"
   ]
  },
  {
   "cell_type": "code",
   "execution_count": 36,
   "id": "52ef008a",
   "metadata": {},
   "outputs": [
    {
     "data": {
      "text/plain": [
       "['Delhi',\n",
       " 'Rome',\n",
       " 'Berlin',\n",
       " 'Gurgaon',\n",
       " 'Chandigarh',\n",
       " 'Sidney',\n",
       " 'Switzerland',\n",
       " 'Melbourne',\n",
       " 'Rome',\n",
       " 'Berlin']"
      ]
     },
     "execution_count": 36,
     "metadata": {},
     "output_type": "execute_result"
    }
   ],
   "source": [
    "i"
   ]
  },
  {
   "cell_type": "code",
   "execution_count": null,
   "id": "11a611ec",
   "metadata": {},
   "outputs": [],
   "source": []
  },
  {
   "cell_type": "markdown",
   "id": "a3ee013d",
   "metadata": {},
   "source": [
    "# Q9"
   ]
  },
  {
   "cell_type": "code",
   "execution_count": 37,
   "id": "40a4bef0",
   "metadata": {},
   "outputs": [
    {
     "data": {
      "text/plain": [
       "'Berlin'"
      ]
     },
     "execution_count": 37,
     "metadata": {},
     "output_type": "execute_result"
    }
   ],
   "source": [
    "i.pop(2)"
   ]
  },
  {
   "cell_type": "code",
   "execution_count": null,
   "id": "67e3f3b8",
   "metadata": {},
   "outputs": [],
   "source": []
  },
  {
   "cell_type": "markdown",
   "id": "64be76b0",
   "metadata": {},
   "source": [
    "# Q10"
   ]
  },
  {
   "cell_type": "code",
   "execution_count": 38,
   "id": "cf5ed3ff",
   "metadata": {},
   "outputs": [],
   "source": [
    "new_list = ['Delhi', 'is', 'a', 'bustling', 'metropolis', 'that', 'seamlessly', 'blends', 'a', 'rich', 'historical', 'past', 'with',\n",
    "'the', 'modern', 'world.', 'It', 'has', 'a', 'deep-rooted', 'history', 'dating', 'back', 'thousands', 'of', 'years,',\n",
    "'making', 'it', 'one', 'of', 'the', 'oldest', 'continuously', 'inhabited', 'cities', 'in', 'the', 'world.']"
   ]
  },
  {
   "cell_type": "code",
   "execution_count": 39,
   "id": "a7b404b5",
   "metadata": {},
   "outputs": [
    {
     "data": {
      "text/plain": [
       "'DELHI IS A BUSTLING METROPOLIS THAT SEAMLESSLY BLENDS A RICH HISTORICAL PAST WITH THE MODERN WORLD. IT HAS A DEEP-ROOTED HISTORY DATING BACK THOUSANDS OF YEARS, MAKING IT ONE OF THE OLDEST CONTINUOUSLY INHABITED CITIES IN THE WORLD.'"
      ]
     },
     "execution_count": 39,
     "metadata": {},
     "output_type": "execute_result"
    }
   ],
   "source": [
    "string = ' '.join(new_list)\n",
    "string.upper()"
   ]
  },
  {
   "cell_type": "code",
   "execution_count": null,
   "id": "c18cc30c",
   "metadata": {},
   "outputs": [],
   "source": []
  },
  {
   "cell_type": "markdown",
   "id": "95120be2",
   "metadata": {},
   "source": [
    "# Q11"
   ]
  },
  {
   "cell_type": "code",
   "execution_count": 40,
   "id": "118130ae",
   "metadata": {},
   "outputs": [],
   "source": [
    "tup = tuple(i)"
   ]
  },
  {
   "cell_type": "code",
   "execution_count": 41,
   "id": "5bbf8dc6",
   "metadata": {},
   "outputs": [
    {
     "data": {
      "text/plain": [
       "('Delhi',\n",
       " 'Rome',\n",
       " 'Gurgaon',\n",
       " 'Chandigarh',\n",
       " 'Sidney',\n",
       " 'Switzerland',\n",
       " 'Melbourne',\n",
       " 'Rome',\n",
       " 'Berlin')"
      ]
     },
     "execution_count": 41,
     "metadata": {},
     "output_type": "execute_result"
    }
   ],
   "source": [
    "tup"
   ]
  },
  {
   "cell_type": "code",
   "execution_count": null,
   "id": "c537e0e5",
   "metadata": {},
   "outputs": [],
   "source": []
  },
  {
   "cell_type": "markdown",
   "id": "f2c1dae1",
   "metadata": {},
   "source": [
    "# Q12"
   ]
  },
  {
   "cell_type": "code",
   "execution_count": 42,
   "id": "f2be3769",
   "metadata": {},
   "outputs": [],
   "source": [
    "z = tup[0:2]"
   ]
  },
  {
   "cell_type": "code",
   "execution_count": 43,
   "id": "81245751",
   "metadata": {},
   "outputs": [
    {
     "data": {
      "text/plain": [
       "('Delhi', 'Rome')"
      ]
     },
     "execution_count": 43,
     "metadata": {},
     "output_type": "execute_result"
    }
   ],
   "source": [
    "z"
   ]
  },
  {
   "cell_type": "code",
   "execution_count": null,
   "id": "07136a7a",
   "metadata": {},
   "outputs": [],
   "source": []
  },
  {
   "cell_type": "code",
   "execution_count": null,
   "id": "8ddc77eb",
   "metadata": {},
   "outputs": [],
   "source": []
  },
  {
   "cell_type": "markdown",
   "id": "f908c625",
   "metadata": {},
   "source": [
    "# DICTIONARY"
   ]
  },
  {
   "cell_type": "code",
   "execution_count": 44,
   "id": "d65e4a0d",
   "metadata": {},
   "outputs": [
    {
     "name": "stdout",
     "output_type": "stream",
     "text": [
      "Please enter the First and Last name separated by space (or type \"exit\" to quit): Yash Sharma\n",
      "Please enter the phone number: 844161161\n",
      "Please enter your location: Delhi\n",
      "Please enter the First and Last name separated by space (or type \"exit\" to quit): Kiran Bisht\n",
      "Please enter the phone number: 545684225\n",
      "Please enter your location: Delhi\n",
      "Please enter the First and Last name separated by space (or type \"exit\" to quit): Anubhav Singh\n",
      "Please enter the phone number: 94611111\n",
      "Please enter your location: Jaipur\n",
      "Please enter the First and Last name separated by space (or type \"exit\" to quit): Megha Rawat\n",
      "Please enter the phone number: 32645664\n",
      "Please enter your location: Dehradun\n",
      "Please enter the First and Last name separated by space (or type \"exit\" to quit): Ankit Sharma\n",
      "Please enter the phone number: 64644616\n",
      "Please enter your location: Chandigarh\n",
      "Please enter the First and Last name separated by space (or type \"exit\" to quit): exit\n"
     ]
    },
    {
     "data": {
      "text/plain": [
       "{'Yash Sharma': [{'address': 'Delhi', 'number': '844161161'}],\n",
       " 'Kiran Bisht': [{'address': 'Delhi', 'number': '545684225'}],\n",
       " 'Anubhav Singh': [{'address': 'Jaipur', 'number': '94611111'}],\n",
       " 'Megha Rawat': [{'address': 'Dehradun', 'number': '32645664'}],\n",
       " 'Ankit Sharma': [{'address': 'Chandigarh', 'number': '64644616'}]}"
      ]
     },
     "execution_count": 44,
     "metadata": {},
     "output_type": "execute_result"
    }
   ],
   "source": [
    "book = {} \n",
    "def info_book(): \n",
    "    \"\"\"Creates a phone book with names as key and a list of dictionaries as values\"\"\" \n",
    "\n",
    "    while True: \n",
    "        names = input('Please enter the First and Last name separated by space (or type \"exit\" to quit): ') \n",
    "        if names.lower() == 'exit': \n",
    "            break \n",
    "        number = input('Please enter the phone number: ') \n",
    "        address = input('Please enter your location: ') \n",
    "        full_name = \" \".join(names.split()) \n",
    "        # Check if the full name exists in the phone book \n",
    "        if full_name in book: \n",
    "        # If the name exists , append the new entry to the existing list of entries \n",
    "            book[full_name].append({ 'address' : address, 'number' : number }) \n",
    "        else : \n",
    "            # If the name does not exist, create a new entry with a list containing the dictionary \n",
    "            book[full_name] = [{ 'address' : address, 'number' : number }] \n",
    "    return book \n",
    "info_book() "
   ]
  },
  {
   "cell_type": "code",
   "execution_count": null,
   "id": "05c3e30c",
   "metadata": {},
   "outputs": [],
   "source": []
  },
  {
   "cell_type": "markdown",
   "id": "69fd5a4e",
   "metadata": {},
   "source": [
    "# Q1"
   ]
  },
  {
   "cell_type": "code",
   "execution_count": 45,
   "id": "c08738d6",
   "metadata": {},
   "outputs": [
    {
     "data": {
      "text/plain": [
       "dict_keys(['Yash Sharma', 'Kiran Bisht', 'Anubhav Singh', 'Megha Rawat', 'Ankit Sharma'])"
      ]
     },
     "execution_count": 45,
     "metadata": {},
     "output_type": "execute_result"
    }
   ],
   "source": [
    "book.keys()"
   ]
  },
  {
   "cell_type": "code",
   "execution_count": null,
   "id": "ccb6dcc3",
   "metadata": {},
   "outputs": [],
   "source": []
  },
  {
   "cell_type": "markdown",
   "id": "91e87042",
   "metadata": {},
   "source": [
    "# Q2"
   ]
  },
  {
   "cell_type": "code",
   "execution_count": 46,
   "id": "42a0ead1",
   "metadata": {},
   "outputs": [
    {
     "data": {
      "text/plain": [
       "dict_values([[{'address': 'Delhi', 'number': '844161161'}], [{'address': 'Delhi', 'number': '545684225'}], [{'address': 'Jaipur', 'number': '94611111'}], [{'address': 'Dehradun', 'number': '32645664'}], [{'address': 'Chandigarh', 'number': '64644616'}]])"
      ]
     },
     "execution_count": 46,
     "metadata": {},
     "output_type": "execute_result"
    }
   ],
   "source": [
    "book.values()"
   ]
  },
  {
   "cell_type": "code",
   "execution_count": null,
   "id": "9ff97708",
   "metadata": {},
   "outputs": [],
   "source": []
  },
  {
   "cell_type": "markdown",
   "id": "4d9710e2",
   "metadata": {},
   "source": [
    "# Q3"
   ]
  },
  {
   "cell_type": "code",
   "execution_count": 47,
   "id": "c2f94292",
   "metadata": {},
   "outputs": [],
   "source": [
    "book.setdefault('Vikas Yadav')"
   ]
  },
  {
   "cell_type": "code",
   "execution_count": 48,
   "id": "cc346704",
   "metadata": {},
   "outputs": [
    {
     "data": {
      "text/plain": [
       "dict_keys(['Yash Sharma', 'Kiran Bisht', 'Anubhav Singh', 'Megha Rawat', 'Ankit Sharma', 'Vikas Yadav'])"
      ]
     },
     "execution_count": 48,
     "metadata": {},
     "output_type": "execute_result"
    }
   ],
   "source": [
    "book.keys()"
   ]
  },
  {
   "cell_type": "code",
   "execution_count": null,
   "id": "c8572d6d",
   "metadata": {},
   "outputs": [],
   "source": []
  },
  {
   "cell_type": "markdown",
   "id": "ff9151fc",
   "metadata": {},
   "source": [
    "# Q4"
   ]
  },
  {
   "cell_type": "code",
   "execution_count": 49,
   "id": "0af939e4",
   "metadata": {},
   "outputs": [],
   "source": [
    "book.setdefault('Matt Daemon')"
   ]
  },
  {
   "cell_type": "code",
   "execution_count": 50,
   "id": "dcd75f7a",
   "metadata": {},
   "outputs": [],
   "source": [
    "book.update({'Matt Daemon':[{'address':'Pune','number':'555101898'}]})"
   ]
  },
  {
   "cell_type": "code",
   "execution_count": 51,
   "id": "9480624f",
   "metadata": {},
   "outputs": [
    {
     "data": {
      "text/plain": [
       "{'Yash Sharma': [{'address': 'Delhi', 'number': '844161161'}],\n",
       " 'Kiran Bisht': [{'address': 'Delhi', 'number': '545684225'}],\n",
       " 'Anubhav Singh': [{'address': 'Jaipur', 'number': '94611111'}],\n",
       " 'Megha Rawat': [{'address': 'Dehradun', 'number': '32645664'}],\n",
       " 'Ankit Sharma': [{'address': 'Chandigarh', 'number': '64644616'}],\n",
       " 'Vikas Yadav': None,\n",
       " 'Matt Daemon': [{'address': 'Pune', 'number': '555101898'}]}"
      ]
     },
     "execution_count": 51,
     "metadata": {},
     "output_type": "execute_result"
    }
   ],
   "source": [
    "book"
   ]
  },
  {
   "cell_type": "code",
   "execution_count": null,
   "id": "a7d92e96",
   "metadata": {},
   "outputs": [],
   "source": []
  },
  {
   "cell_type": "markdown",
   "id": "160931a4",
   "metadata": {},
   "source": [
    "# Q5"
   ]
  },
  {
   "cell_type": "code",
   "execution_count": 52,
   "id": "3f84f048",
   "metadata": {},
   "outputs": [],
   "source": [
    "book.update({'Matt Daemon':[{'address':'New York','number':'444333888'}]})"
   ]
  },
  {
   "cell_type": "code",
   "execution_count": null,
   "id": "38bd68d5",
   "metadata": {},
   "outputs": [],
   "source": []
  },
  {
   "cell_type": "markdown",
   "id": "59786e06",
   "metadata": {},
   "source": [
    "# Q6"
   ]
  },
  {
   "cell_type": "code",
   "execution_count": 53,
   "id": "618a4c27",
   "metadata": {},
   "outputs": [],
   "source": [
    "new_book = {'Jon Snow': [{'address': 'Sydney', 'number': '500600700'}],\n",
    "'Thomas Shelby': [{'address': 'Birmingham', 'number': '888000111'}],\n",
    "'Alex Botez': [{'address': 'California', 'number': '464555202'}],\n",
    "'Vidit Gujarati': [{'address': 'Mumbai', 'number': '7711155530'}],\n",
    "'Manasi Joshi': [{'address': 'Delhi', 'number': '8000500023'}]}"
   ]
  },
  {
   "cell_type": "code",
   "execution_count": 54,
   "id": "f7f8782a",
   "metadata": {},
   "outputs": [
    {
     "data": {
      "text/plain": [
       "{'Jon Snow': [{'address': 'Sydney', 'number': '500600700'}],\n",
       " 'Thomas Shelby': [{'address': 'Birmingham', 'number': '888000111'}],\n",
       " 'Alex Botez': [{'address': 'California', 'number': '464555202'}],\n",
       " 'Vidit Gujarati': [{'address': 'Mumbai', 'number': '7711155530'}],\n",
       " 'Manasi Joshi': [{'address': 'Delhi', 'number': '8000500023'}]}"
      ]
     },
     "execution_count": 54,
     "metadata": {},
     "output_type": "execute_result"
    }
   ],
   "source": [
    "new_book"
   ]
  },
  {
   "cell_type": "code",
   "execution_count": 55,
   "id": "075f42b6",
   "metadata": {},
   "outputs": [],
   "source": [
    "book.update(new_book)"
   ]
  },
  {
   "cell_type": "code",
   "execution_count": 56,
   "id": "d2a13738",
   "metadata": {},
   "outputs": [
    {
     "data": {
      "text/plain": [
       "{'Yash Sharma': [{'address': 'Delhi', 'number': '844161161'}],\n",
       " 'Kiran Bisht': [{'address': 'Delhi', 'number': '545684225'}],\n",
       " 'Anubhav Singh': [{'address': 'Jaipur', 'number': '94611111'}],\n",
       " 'Megha Rawat': [{'address': 'Dehradun', 'number': '32645664'}],\n",
       " 'Ankit Sharma': [{'address': 'Chandigarh', 'number': '64644616'}],\n",
       " 'Vikas Yadav': None,\n",
       " 'Matt Daemon': [{'address': 'New York', 'number': '444333888'}],\n",
       " 'Jon Snow': [{'address': 'Sydney', 'number': '500600700'}],\n",
       " 'Thomas Shelby': [{'address': 'Birmingham', 'number': '888000111'}],\n",
       " 'Alex Botez': [{'address': 'California', 'number': '464555202'}],\n",
       " 'Vidit Gujarati': [{'address': 'Mumbai', 'number': '7711155530'}],\n",
       " 'Manasi Joshi': [{'address': 'Delhi', 'number': '8000500023'}]}"
      ]
     },
     "execution_count": 56,
     "metadata": {},
     "output_type": "execute_result"
    }
   ],
   "source": [
    "book"
   ]
  },
  {
   "cell_type": "code",
   "execution_count": null,
   "id": "90d950f7",
   "metadata": {},
   "outputs": [],
   "source": []
  },
  {
   "cell_type": "markdown",
   "id": "f7f42a4c",
   "metadata": {},
   "source": [
    "# Q7"
   ]
  },
  {
   "cell_type": "code",
   "execution_count": 57,
   "id": "ae7b4482",
   "metadata": {},
   "outputs": [
    {
     "data": {
      "text/plain": [
       "[{'address': 'Sydney', 'number': '500600700'}]"
      ]
     },
     "execution_count": 57,
     "metadata": {},
     "output_type": "execute_result"
    }
   ],
   "source": [
    "book.pop('Jon Snow')"
   ]
  },
  {
   "cell_type": "code",
   "execution_count": null,
   "id": "746e024a",
   "metadata": {},
   "outputs": [],
   "source": []
  },
  {
   "cell_type": "markdown",
   "id": "c01e2cd5",
   "metadata": {},
   "source": [
    "# Q8"
   ]
  },
  {
   "cell_type": "code",
   "execution_count": 58,
   "id": "d0dad8b2",
   "metadata": {},
   "outputs": [
    {
     "name": "stdout",
     "output_type": "stream",
     "text": [
      "11\n"
     ]
    }
   ],
   "source": [
    "print(len(book))"
   ]
  },
  {
   "cell_type": "code",
   "execution_count": null,
   "id": "1bef4769",
   "metadata": {},
   "outputs": [],
   "source": []
  },
  {
   "cell_type": "code",
   "execution_count": null,
   "id": "2279e642",
   "metadata": {},
   "outputs": [],
   "source": []
  },
  {
   "cell_type": "code",
   "execution_count": null,
   "id": "00ade132",
   "metadata": {},
   "outputs": [],
   "source": []
  },
  {
   "cell_type": "code",
   "execution_count": null,
   "id": "9509645c",
   "metadata": {},
   "outputs": [],
   "source": []
  },
  {
   "cell_type": "code",
   "execution_count": null,
   "id": "7ec44d16",
   "metadata": {},
   "outputs": [],
   "source": []
  },
  {
   "cell_type": "code",
   "execution_count": null,
   "id": "d66ab256",
   "metadata": {},
   "outputs": [],
   "source": []
  },
  {
   "cell_type": "code",
   "execution_count": null,
   "id": "78ee9c17",
   "metadata": {},
   "outputs": [],
   "source": []
  }
 ],
 "metadata": {
  "kernelspec": {
   "display_name": "Python 3 (ipykernel)",
   "language": "python",
   "name": "python3"
  },
  "language_info": {
   "codemirror_mode": {
    "name": "ipython",
    "version": 3
   },
   "file_extension": ".py",
   "mimetype": "text/x-python",
   "name": "python",
   "nbconvert_exporter": "python",
   "pygments_lexer": "ipython3",
   "version": "3.11.3"
  }
 },
 "nbformat": 4,
 "nbformat_minor": 5
}
